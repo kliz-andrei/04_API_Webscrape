{
 "cells": [
  {
   "cell_type": "markdown",
   "id": "7127ac50-7852-4c07-b739-9f9d1454f79f",
   "metadata": {},
   "source": [
    "# API Practice\n",
    "##### Author: Kliz John Andrei Millares\n",
    "![Logo](https://i.postimg.cc/FKfVkbnz/Millares-Logo01.png)\r\n",
    "## Random User\n",
    "\n",
    "\r",
    "## My tasks:\n",
    "I need to be able to:\n",
    "\n",
    "*   Load and use RandomUser API, using `RandomUser()` Python library\n",
    "ibrary\r\n",
    "s"
   ]
  },
  {
   "cell_type": "markdown",
   "id": "db19c4a2-5de7-46f2-89b1-a48736717d02",
   "metadata": {},
   "source": [
    "## Example 1: RandomUser API"
   ]
  },
  {
   "cell_type": "markdown",
   "id": "372a3855-7e08-47c7-a2b7-1def92066402",
   "metadata": {},
   "source": [
    "## **Get Methods**\n",
    "\n",
    "- get_cell()\n",
    "- get_city()\n",
    "- get_dob()\n",
    "- get_email()\n",
    "- get_first_name()\n",
    "- get_full_name()\n",
    "- get_gender()\n",
    "- get_id()\n",
    "- get_id_number()\n",
    "- get_id_type()\n",
    "- get_info()\n",
    "- get_last_name()\n",
    "- get_login_md5()\n",
    "- get_login_salt()\n",
    "- get_login_sha1()\n",
    "- get_login_sha256()\n",
    "- get_nat()\n",
    "- get_password()\n",
    "- get_phone()\n",
    "- get_picture()\n",
    "- get_postcode()\n",
    "- get_registered()\n",
    "- get_state()\n",
    "- get_street()\n",
    "- get_username()\n",
    "- get_zipcode()\n"
   ]
  },
  {
   "cell_type": "code",
   "execution_count": 30,
   "id": "c379c0d1-f0aa-4327-bab2-76cf7d9c0bae",
   "metadata": {},
   "outputs": [],
   "source": [
    "!pip install randomuser"
   ]
  },
  {
   "cell_type": "markdown",
   "id": "dc7e15dc-5570-4bc5-a6b9-922c066caacb",
   "metadata": {},
   "source": [
    "### Load the necessary libraries."
   ]
  },
  {
   "cell_type": "code",
   "execution_count": 31,
   "id": "d950f94b-1679-4fb9-a5ea-acf6ce6d57c2",
   "metadata": {},
   "outputs": [],
   "source": [
    "from randomuser import RandomUser\n",
    "import pandas as pd"
   ]
  },
  {
   "cell_type": "markdown",
   "id": "eed8fb38-e3a2-48c5-882d-92f07e4ae357",
   "metadata": {},
   "source": [
    "First, I will create a random user object, r.\n"
   ]
  },
  {
   "cell_type": "code",
   "execution_count": 32,
   "id": "f9023cef-e82d-4cb0-92aa-898e20b92950",
   "metadata": {},
   "outputs": [],
   "source": [
    "r = RandomUser()"
   ]
  },
  {
   "cell_type": "markdown",
   "id": "b7f7a6e3-36fc-463c-97a4-f4ff5f686fe9",
   "metadata": {},
   "source": [
    "Then, I will be using `generate_users()` function, we get a list of random 10 users.\n"
   ]
  },
  {
   "cell_type": "code",
   "execution_count": 33,
   "id": "6fb4f3fd-a13d-4ee9-9250-f8570cd53ff4",
   "metadata": {},
   "outputs": [
    {
     "data": {
      "text/plain": [
       "[<randomuser.RandomUser at 0x1a40215ad90>,\n",
       " <randomuser.RandomUser at 0x1a40215add0>,\n",
       " <randomuser.RandomUser at 0x1a40215ae10>,\n",
       " <randomuser.RandomUser at 0x1a40215ae50>,\n",
       " <randomuser.RandomUser at 0x1a40215ae90>,\n",
       " <randomuser.RandomUser at 0x1a40215af10>,\n",
       " <randomuser.RandomUser at 0x1a40215af50>,\n",
       " <randomuser.RandomUser at 0x1a40215af90>,\n",
       " <randomuser.RandomUser at 0x1a40215afd0>,\n",
       " <randomuser.RandomUser at 0x1a40215aed0>]"
      ]
     },
     "execution_count": 33,
     "metadata": {},
     "output_type": "execute_result"
    }
   ],
   "source": [
    "some_list = r.generate_users(10)\n",
    "some_list"
   ]
  },
  {
   "cell_type": "code",
   "execution_count": 34,
   "id": "74a20f9f-7f21-4d2e-a9b1-346ca9fa850a",
   "metadata": {},
   "outputs": [],
   "source": [
    "name = r.get_full_name()"
   ]
  },
  {
   "cell_type": "markdown",
   "id": "e19e93e1-0f0a-4ba2-8c4d-25c91e7ff74d",
   "metadata": {},
   "source": [
    "Let's say I only need 10 users with full names and their email addresses. I can write a \"for-loop\" to print these 10 users.\n"
   ]
  },
  {
   "cell_type": "code",
   "execution_count": 35,
   "id": "9d108cae-8404-450f-9ba7-86746fe88e3d",
   "metadata": {},
   "outputs": [
    {
     "name": "stdout",
     "output_type": "stream",
     "text": [
      "النا نكو نظر   ln.nkwnzr@example.com\n",
      "Zlatko Rössler   zlatko.rossler@example.com\n",
      "Emma Jensen   emma.jensen@example.com\n",
      "Lærke Olsen   laerke.olsen@example.com\n",
      "Ramiro Moura   ramiro.moura@example.com\n",
      "Mahé Vidal   mahe.vidal@example.com\n",
      "Joshua Jones   joshua.jones@example.com\n",
      "احسان سهيلي راد   hsn.shylyrd@example.com\n",
      "Maddison Farragher   maddison.farragher@example.com\n",
      "Liam Fields   liam.fields@example.com\n"
     ]
    }
   ],
   "source": [
    "for user in some_list:\n",
    "    print (user.get_full_name(),\" \",user.get_email())"
   ]
  },
  {
   "cell_type": "markdown",
   "id": "290518d9-db06-4b3f-ab00-82c1ab53b1fe",
   "metadata": {},
   "source": [
    "I will generate photos of the random 10 users."
   ]
  },
  {
   "cell_type": "code",
   "execution_count": 36,
   "id": "6f626383-020e-4f60-8777-6790f1f599f0",
   "metadata": {},
   "outputs": [
    {
     "name": "stdout",
     "output_type": "stream",
     "text": [
      "https://randomuser.me/api/portraits/women/31.jpg\n",
      "https://randomuser.me/api/portraits/men/4.jpg\n",
      "https://randomuser.me/api/portraits/women/90.jpg\n",
      "https://randomuser.me/api/portraits/women/29.jpg\n",
      "https://randomuser.me/api/portraits/men/40.jpg\n",
      "https://randomuser.me/api/portraits/men/56.jpg\n",
      "https://randomuser.me/api/portraits/men/37.jpg\n",
      "https://randomuser.me/api/portraits/men/32.jpg\n",
      "https://randomuser.me/api/portraits/women/45.jpg\n",
      "https://randomuser.me/api/portraits/men/65.jpg\n"
     ]
    }
   ],
   "source": [
    "for user in some_list:\n",
    "    print (user.get_picture())"
   ]
  },
  {
   "cell_type": "code",
   "execution_count": null,
   "id": "b86cdf26-f8e2-45c9-b34c-28f449e13c43",
   "metadata": {},
   "outputs": [],
   "source": []
  },
  {
   "cell_type": "code",
   "execution_count": 37,
   "id": "90209edb-ddbd-4997-80f3-d53f0a10aca7",
   "metadata": {},
   "outputs": [],
   "source": [
    "def get_users():\n",
    "    users =[]\n",
    "     \n",
    "    for user in RandomUser.generate_users(10):\n",
    "        users.append({\"Name\":user.get_full_name(),\"Gender\":user.get_gender(),\"City\":user.get_city(),\"State\":user.get_state(),\"Email\":user.get_email(), \"DOB\":user.get_dob(),\"Picture\":user.get_picture()})\n",
    "      \n",
    "    return pd.DataFrame(users)     "
   ]
  },
  {
   "cell_type": "code",
   "execution_count": 38,
   "id": "7977c650-93f7-4483-8137-9687a493b5b4",
   "metadata": {},
   "outputs": [
    {
     "data": {
      "text/html": [
       "<div>\n",
       "<style scoped>\n",
       "    .dataframe tbody tr th:only-of-type {\n",
       "        vertical-align: middle;\n",
       "    }\n",
       "\n",
       "    .dataframe tbody tr th {\n",
       "        vertical-align: top;\n",
       "    }\n",
       "\n",
       "    .dataframe thead th {\n",
       "        text-align: right;\n",
       "    }\n",
       "</style>\n",
       "<table border=\"1\" class=\"dataframe\">\n",
       "  <thead>\n",
       "    <tr style=\"text-align: right;\">\n",
       "      <th></th>\n",
       "      <th>Name</th>\n",
       "      <th>Gender</th>\n",
       "      <th>City</th>\n",
       "      <th>State</th>\n",
       "      <th>Email</th>\n",
       "      <th>DOB</th>\n",
       "      <th>Picture</th>\n",
       "    </tr>\n",
       "  </thead>\n",
       "  <tbody>\n",
       "    <tr>\n",
       "      <th>0</th>\n",
       "      <td>Nellie Birkenes</td>\n",
       "      <td>female</td>\n",
       "      <td>Florø</td>\n",
       "      <td>Telemark</td>\n",
       "      <td>nellie.birkenes@example.com</td>\n",
       "      <td>1945-06-10T04:12:24.023Z</td>\n",
       "      <td>https://randomuser.me/api/portraits/women/54.jpg</td>\n",
       "    </tr>\n",
       "    <tr>\n",
       "      <th>1</th>\n",
       "      <td>Nicolau Pinto</td>\n",
       "      <td>male</td>\n",
       "      <td>Osasco</td>\n",
       "      <td>Rio de Janeiro</td>\n",
       "      <td>nicolau.pinto@example.com</td>\n",
       "      <td>1967-04-02T03:26:49.987Z</td>\n",
       "      <td>https://randomuser.me/api/portraits/men/16.jpg</td>\n",
       "    </tr>\n",
       "    <tr>\n",
       "      <th>2</th>\n",
       "      <td>Byron Spencer</td>\n",
       "      <td>male</td>\n",
       "      <td>Laytown-Bettystown-Mornington</td>\n",
       "      <td>Louth</td>\n",
       "      <td>byron.spencer@example.com</td>\n",
       "      <td>1947-07-29T00:49:55.511Z</td>\n",
       "      <td>https://randomuser.me/api/portraits/men/26.jpg</td>\n",
       "    </tr>\n",
       "    <tr>\n",
       "      <th>3</th>\n",
       "      <td>Alma Olsen</td>\n",
       "      <td>female</td>\n",
       "      <td>Kongens  Lyngby</td>\n",
       "      <td>Nordjylland</td>\n",
       "      <td>alma.olsen@example.com</td>\n",
       "      <td>1952-05-20T00:51:12.490Z</td>\n",
       "      <td>https://randomuser.me/api/portraits/women/55.jpg</td>\n",
       "    </tr>\n",
       "    <tr>\n",
       "      <th>4</th>\n",
       "      <td>Anaëlle Da Silva</td>\n",
       "      <td>female</td>\n",
       "      <td>Orléans</td>\n",
       "      <td>Finistère</td>\n",
       "      <td>anaelle.dasilva@example.com</td>\n",
       "      <td>1952-05-24T17:37:15.451Z</td>\n",
       "      <td>https://randomuser.me/api/portraits/women/68.jpg</td>\n",
       "    </tr>\n",
       "    <tr>\n",
       "      <th>5</th>\n",
       "      <td>Necati Akay</td>\n",
       "      <td>male</td>\n",
       "      <td>Niğde</td>\n",
       "      <td>Muş</td>\n",
       "      <td>necati.akay@example.com</td>\n",
       "      <td>1964-09-23T16:24:22.357Z</td>\n",
       "      <td>https://randomuser.me/api/portraits/men/62.jpg</td>\n",
       "    </tr>\n",
       "    <tr>\n",
       "      <th>6</th>\n",
       "      <td>Iina Kivela</td>\n",
       "      <td>female</td>\n",
       "      <td>Parkano</td>\n",
       "      <td>Pirkanmaa</td>\n",
       "      <td>iina.kivela@example.com</td>\n",
       "      <td>1994-11-04T22:40:21.145Z</td>\n",
       "      <td>https://randomuser.me/api/portraits/women/35.jpg</td>\n",
       "    </tr>\n",
       "    <tr>\n",
       "      <th>7</th>\n",
       "      <td>Dorothea Blanc</td>\n",
       "      <td>female</td>\n",
       "      <td>Sevelen</td>\n",
       "      <td>Vaud</td>\n",
       "      <td>dorothea.blanc@example.com</td>\n",
       "      <td>1992-04-29T19:52:03.010Z</td>\n",
       "      <td>https://randomuser.me/api/portraits/women/61.jpg</td>\n",
       "    </tr>\n",
       "    <tr>\n",
       "      <th>8</th>\n",
       "      <td>سورنا محمدخان</td>\n",
       "      <td>male</td>\n",
       "      <td>همدان</td>\n",
       "      <td>یزد</td>\n",
       "      <td>swrn.mhmdkhn@example.com</td>\n",
       "      <td>1948-11-30T04:22:08.152Z</td>\n",
       "      <td>https://randomuser.me/api/portraits/men/88.jpg</td>\n",
       "    </tr>\n",
       "    <tr>\n",
       "      <th>9</th>\n",
       "      <td>Sidónio Souza</td>\n",
       "      <td>male</td>\n",
       "      <td>Sinop</td>\n",
       "      <td>Alagoas</td>\n",
       "      <td>sidonio.souza@example.com</td>\n",
       "      <td>1973-04-08T07:57:17.087Z</td>\n",
       "      <td>https://randomuser.me/api/portraits/men/63.jpg</td>\n",
       "    </tr>\n",
       "  </tbody>\n",
       "</table>\n",
       "</div>"
      ],
      "text/plain": [
       "               Name  Gender                           City           State  \\\n",
       "0   Nellie Birkenes  female                          Florø        Telemark   \n",
       "1     Nicolau Pinto    male                         Osasco  Rio de Janeiro   \n",
       "2     Byron Spencer    male  Laytown-Bettystown-Mornington           Louth   \n",
       "3        Alma Olsen  female                Kongens  Lyngby     Nordjylland   \n",
       "4  Anaëlle Da Silva  female                        Orléans       Finistère   \n",
       "5       Necati Akay    male                          Niğde             Muş   \n",
       "6       Iina Kivela  female                        Parkano       Pirkanmaa   \n",
       "7    Dorothea Blanc  female                        Sevelen            Vaud   \n",
       "8     سورنا محمدخان    male                          همدان             یزد   \n",
       "9     Sidónio Souza    male                          Sinop         Alagoas   \n",
       "\n",
       "                         Email                       DOB  \\\n",
       "0  nellie.birkenes@example.com  1945-06-10T04:12:24.023Z   \n",
       "1    nicolau.pinto@example.com  1967-04-02T03:26:49.987Z   \n",
       "2    byron.spencer@example.com  1947-07-29T00:49:55.511Z   \n",
       "3       alma.olsen@example.com  1952-05-20T00:51:12.490Z   \n",
       "4  anaelle.dasilva@example.com  1952-05-24T17:37:15.451Z   \n",
       "5      necati.akay@example.com  1964-09-23T16:24:22.357Z   \n",
       "6      iina.kivela@example.com  1994-11-04T22:40:21.145Z   \n",
       "7   dorothea.blanc@example.com  1992-04-29T19:52:03.010Z   \n",
       "8     swrn.mhmdkhn@example.com  1948-11-30T04:22:08.152Z   \n",
       "9    sidonio.souza@example.com  1973-04-08T07:57:17.087Z   \n",
       "\n",
       "                                            Picture  \n",
       "0  https://randomuser.me/api/portraits/women/54.jpg  \n",
       "1    https://randomuser.me/api/portraits/men/16.jpg  \n",
       "2    https://randomuser.me/api/portraits/men/26.jpg  \n",
       "3  https://randomuser.me/api/portraits/women/55.jpg  \n",
       "4  https://randomuser.me/api/portraits/women/68.jpg  \n",
       "5    https://randomuser.me/api/portraits/men/62.jpg  \n",
       "6  https://randomuser.me/api/portraits/women/35.jpg  \n",
       "7  https://randomuser.me/api/portraits/women/61.jpg  \n",
       "8    https://randomuser.me/api/portraits/men/88.jpg  \n",
       "9    https://randomuser.me/api/portraits/men/63.jpg  "
      ]
     },
     "execution_count": 38,
     "metadata": {},
     "output_type": "execute_result"
    }
   ],
   "source": [
    "get_users()"
   ]
  }
 ],
 "metadata": {
  "kernelspec": {
   "display_name": "Python 3 (ipykernel)",
   "language": "python",
   "name": "python3"
  },
  "language_info": {
   "codemirror_mode": {
    "name": "ipython",
    "version": 3
   },
   "file_extension": ".py",
   "mimetype": "text/x-python",
   "name": "python",
   "nbconvert_exporter": "python",
   "pygments_lexer": "ipython3",
   "version": "3.11.7"
  }
 },
 "nbformat": 4,
 "nbformat_minor": 5
}
